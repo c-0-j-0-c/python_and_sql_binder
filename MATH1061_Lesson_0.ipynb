{
 "cells": [
  {
   "cell_type": "markdown",
   "id": "5e2f64a7-66e6-4096-8ca7-75d03d2c2e98",
   "metadata": {},
   "source": [
    "### MATH1061\n",
    "\n",
    "#### Section A.1 Logical form and logical equivalences"
   ]
  },
  {
   "cell_type": "code",
   "execution_count": 7,
   "id": "d0d3cb19-b294-4421-86f8-08ce6550c889",
   "metadata": {},
   "outputs": [],
   "source": [
    "import sys\n",
    "sys.path.insert(0, './.hidden')\n",
    "from displayTextbook import section_1_1, section_2_1"
   ]
  },
  {
   "cell_type": "markdown",
   "id": "601a68ac-d65f-4c4a-a6ac-69f0f3cfcc0a",
   "metadata": {
    "tags": []
   },
   "source": [
    "#### Read Section 1.1"
   ]
  },
  {
   "cell_type": "code",
   "execution_count": 8,
   "id": "4c12a91c-a5b5-415d-87ea-358ff0acc7aa",
   "metadata": {},
   "outputs": [
    {
     "data": {
      "application/vnd.jupyter.widget-view+json": {
       "model_id": "d5b5c24fba504b8e89eb597cdb17d229",
       "version_major": 2,
       "version_minor": 0
      },
      "text/plain": [
       "VBox(children=(IntSlider(value=1, continuous_update=False, description='Section 1.1', max=6, min=1), Output())…"
      ]
     },
     "metadata": {},
     "output_type": "display_data"
    }
   ],
   "source": [
    "section_1_1()"
   ]
  },
  {
   "cell_type": "markdown",
   "id": "6eb18b11-f4ff-43cd-983e-731bdee60a31",
   "metadata": {},
   "source": [
    "#### Read Section 2.1"
   ]
  },
  {
   "cell_type": "code",
   "execution_count": 9,
   "id": "f8b69ce6-9980-43a9-9160-2ecfa3a35279",
   "metadata": {},
   "outputs": [
    {
     "data": {
      "application/vnd.jupyter.widget-view+json": {
       "model_id": "f2a2654cbdb847af89e8189fbe63d285",
       "version_major": 2,
       "version_minor": 0
      },
      "text/plain": [
       "VBox(children=(IntSlider(value=23, continuous_update=False, description='Section 2.1', max=38, min=23), Output…"
      ]
     },
     "metadata": {},
     "output_type": "display_data"
    }
   ],
   "source": [
    "section_2_1()"
   ]
  },
  {
   "cell_type": "markdown",
   "id": "c6fb4535-cef2-4773-b534-00b1dc9609a7",
   "metadata": {},
   "source": [
    "- Construct a truth table for $(p \\lor q)\\hspace{2pt}\\land \\sim(p \\lor r) $\n",
    "- Ex 2.1: 14, 16, 25, 17, 40, 41, 50, 53\n",
    "- Exclusive or: We use $\\veebar$ where $p\\veebar q$ means $p$ or $q$ but NOT both. Write out the truth table for this exclusive or. Other notation for exclusive or is or XOR, as in $p \\oplus q$ and $p$ XOR $q$\n",
    "- Verify one of the distributive laws with a truth table (See bottom of page 35)"
   ]
  }
 ],
 "metadata": {
  "kernelspec": {
   "display_name": "Python 3 (ipykernel)",
   "language": "python",
   "name": "python3"
  },
  "language_info": {
   "codemirror_mode": {
    "name": "ipython",
    "version": 3
   },
   "file_extension": ".py",
   "mimetype": "text/x-python",
   "name": "python",
   "nbconvert_exporter": "python",
   "pygments_lexer": "ipython3",
   "version": "3.7.10"
  }
 },
 "nbformat": 4,
 "nbformat_minor": 5
}
