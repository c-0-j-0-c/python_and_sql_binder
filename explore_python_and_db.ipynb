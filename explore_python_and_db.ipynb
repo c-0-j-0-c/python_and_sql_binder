{
 "cells": [
  {
   "cell_type": "markdown",
   "id": "75b69d05-d605-474f-9efd-7f85b09557b7",
   "metadata": {
    "tags": []
   },
   "source": [
    "# Lesson 0 Notes\n",
    "\n",
    "##### Table of Contents"
   ]
  },
  {
   "cell_type": "markdown",
   "id": "4cf23452-c340-49d9-9389-f964968126c5",
   "metadata": {},
   "source": [
    "### Python"
   ]
  },
  {
   "cell_type": "markdown",
   "id": "ff202e87-b657-4d1a-aa27-bffdeb90826d",
   "metadata": {},
   "source": [
    "Python is an interpreted language\n",
    "\n",
    "* expressions\n",
    "* variables\n",
    "     - naming variables\n",
    "    - reserved words\n",
    "* data types\n",
    "* basic output"
   ]
  },
  {
   "cell_type": "code",
   "execution_count": 24,
   "id": "83c6f1e8-4478-45cd-b480-7efb531f0aa9",
   "metadata": {},
   "outputs": [
    {
     "name": "stdout",
     "output_type": "stream",
     "text": [
      "Hello World\n"
     ]
    }
   ],
   "source": [
    "# Hello World Program\n",
    "print(\"Hello World\")"
   ]
  },
  {
   "cell_type": "markdown",
   "id": "cac36072-a72f-4158-a5d7-b506ad95be95",
   "metadata": {},
   "source": [
    "___________\n",
    "We can use Python as a calculator.<br>\n",
    "Addition"
   ]
  },
  {
   "cell_type": "code",
   "execution_count": 41,
   "id": "bed18251-25ad-4489-a53e-75042bbd30b4",
   "metadata": {},
   "outputs": [
    {
     "data": {
      "text/plain": [
       "3"
      ]
     },
     "execution_count": 41,
     "metadata": {},
     "output_type": "execute_result"
    }
   ],
   "source": [
    "1 + 2"
   ]
  },
  {
   "cell_type": "markdown",
   "id": "9dde62b2-06e3-4e6f-a71b-fb3adccd0f69",
   "metadata": {},
   "source": [
    "Multiplication using * for x"
   ]
  },
  {
   "cell_type": "code",
   "execution_count": 37,
   "id": "548ce429-7fa5-402f-a3c6-ea714a2dba57",
   "metadata": {},
   "outputs": [
    {
     "data": {
      "text/plain": [
       "15"
      ]
     },
     "execution_count": 37,
     "metadata": {},
     "output_type": "execute_result"
    }
   ],
   "source": [
    "5 * 3"
   ]
  },
  {
   "cell_type": "markdown",
   "id": "5ba33aca-ffa2-4c9d-8f21-979b3252022b",
   "metadata": {},
   "source": [
    "String multiplication"
   ]
  },
  {
   "cell_type": "code",
   "execution_count": 22,
   "id": "6af7146a-9a5f-4bc7-b8e7-90f78718a10a",
   "metadata": {},
   "outputs": [
    {
     "data": {
      "text/plain": [
       "'Hello Hello Hello Howard'"
      ]
     },
     "execution_count": 22,
     "metadata": {},
     "output_type": "execute_result"
    }
   ],
   "source": [
    "\"Hello \" * 3 + \"Howard\""
   ]
  },
  {
   "cell_type": "markdown",
   "id": "1348cf96-f498-4ded-83fb-9c98d64a381c",
   "metadata": {},
   "source": [
    "Normal Divison using / for ÷"
   ]
  },
  {
   "cell_type": "code",
   "execution_count": 38,
   "id": "c621795b-bb8d-479c-9fed-2c3875b3bb3b",
   "metadata": {},
   "outputs": [
    {
     "data": {
      "text/plain": [
       "2.5"
      ]
     },
     "execution_count": 38,
     "metadata": {},
     "output_type": "execute_result"
    }
   ],
   "source": [
    "5 / 2"
   ]
  },
  {
   "cell_type": "markdown",
   "id": "96cd77d7-d388-42e7-886b-b29f1d3d893e",
   "metadata": {},
   "source": [
    "Integer Division uses double slash //"
   ]
  },
  {
   "cell_type": "code",
   "execution_count": 39,
   "id": "f3eb21fd-3c47-4e06-8146-0c1b1a1e7abd",
   "metadata": {},
   "outputs": [
    {
     "data": {
      "text/plain": [
       "2"
      ]
     },
     "execution_count": 39,
     "metadata": {},
     "output_type": "execute_result"
    }
   ],
   "source": [
    "5 // 2"
   ]
  },
  {
   "cell_type": "markdown",
   "id": "bb6582f1-4186-41a7-ab2e-8cc2066f4cf6",
   "metadata": {},
   "source": [
    "All of these are expressions. We can save the results of these expressions into variables. These have some rules: [Excerpt from Think Python 2.2  Variable names](https://greenteapress.com/thinkpython2/html/thinkpython2003.html#sec17)\n",
    "\n",
    "Below is an assignment statement."
   ]
  },
  {
   "cell_type": "code",
   "execution_count": 14,
   "id": "a94bf3f9-ba76-4250-9501-11d11cff86ad",
   "metadata": {},
   "outputs": [],
   "source": [
    "percentage = (30/35) * 100"
   ]
  },
  {
   "cell_type": "markdown",
   "id": "60a756de-5c72-41ba-95b8-0671f07d4d20",
   "metadata": {},
   "source": [
    "Here is some text, commonly known as strings. It can be enclosed in both double quotes or both single quotes"
   ]
  },
  {
   "cell_type": "code",
   "execution_count": 12,
   "id": "692d4992-e05d-4f54-a146-da17f33fa51f",
   "metadata": {},
   "outputs": [],
   "source": [
    "person = \"Clarissa\"\n",
    "another_person = 'Howard'"
   ]
  },
  {
   "cell_type": "markdown",
   "id": "b1e90851-3b7a-4385-bebf-d0f56f1bb283",
   "metadata": {},
   "source": [
    "But I want to write a sentence that has double quotes in it? You can escape the character with a backslash \\"
   ]
  },
  {
   "cell_type": "code",
   "execution_count": 13,
   "id": "9cd835b8-862a-4b91-8a56-80e559ab0883",
   "metadata": {},
   "outputs": [
    {
     "name": "stdout",
     "output_type": "stream",
     "text": [
      "Clarissa says \"Hi\". Clarissa's computer runs Windows 10 plus WSL with Ubuntu\n"
     ]
    }
   ],
   "source": [
    "sentence = \"Clarissa says \\\"Hi\\\". Clarissa's computer runs Windows 10 plus WSL with Ubuntu.\"\n",
    "print(sentence)"
   ]
  },
  {
   "cell_type": "markdown",
   "id": "0ed21a7b-3780-4b10-845c-3f4af7b829b8",
   "metadata": {},
   "source": [
    "This is some more complicated code, I want to put some remarks in for later using # to create a comment"
   ]
  },
  {
   "cell_type": "code",
   "execution_count": 6,
   "id": "5c063737-e2bf-4c9a-b877-3de632e40d34",
   "metadata": {},
   "outputs": [
    {
     "name": "stdout",
     "output_type": "stream",
     "text": [
      "Clarissa received 85.71428571428571 % for a test\n"
     ]
    }
   ],
   "source": [
    "# print puts stuff on the screen.\n",
    "# You can print multiple things at once, separated by commas\n",
    "print(person, \"received\", percentage, \"% for a test\")"
   ]
  },
  {
   "cell_type": "code",
   "execution_count": 55,
   "id": "a441d44f-0f89-4c93-8ad0-260a1a28b0e9",
   "metadata": {},
   "outputs": [
    {
     "name": "stdout",
     "output_type": "stream",
     "text": [
      "Clarissa received 85.71% for a test\n",
      "{}\n"
     ]
    }
   ],
   "source": [
    "# I don't want to see lots of trailing decimal places plus a space between decimal and %\n",
    "# Let's utilise f-strings\n",
    "# We can put f in front of double quotes and enclose variable names in braces {}\n",
    "print(f\"{person} received {percentage:.2f}% for a test\")\n",
    "# What if we want to print a brace, we double the brace\n",
    "print(f\"{{}}\")"
   ]
  },
  {
   "cell_type": "markdown",
   "id": "1fbd2fdb-648e-4228-958c-c227b55d0237",
   "metadata": {},
   "source": [
    "Clarissa decided to write a chapter in Python - not a smart idea; but she did it in triple double quoted strings which can go over lines"
   ]
  },
  {
   "cell_type": "code",
   "execution_count": 17,
   "id": "598630ee-b352-4a6f-b409-e52af793fcc7",
   "metadata": {},
   "outputs": [
    {
     "name": "stdout",
     "output_type": "stream",
     "text": [
      "This is a sentence.\n",
      "\n",
      "This is another sentence.\n",
      "\n",
      "Obviously this is another boring sentence.\n",
      "\n",
      "Mandatory Monty Python reference - Spam; Spam; Spam\n"
     ]
    }
   ],
   "source": [
    "chapter = \"\"\"This is a sentence.\n",
    "\n",
    "This is another sentence.\n",
    "\n",
    "Obviously this is another boring sentence.\n",
    "\n",
    "Mandatory Monty Python reference - Spam; Spam; Spam\"\"\"\n",
    "print(chapter)"
   ]
  },
  {
   "cell_type": "markdown",
   "id": "23d5f4e2-40cb-4b7a-ad49-8b42efed1117",
   "metadata": {},
   "source": [
    "#### Clarissa just felt like shouting her stupid chapter"
   ]
  },
  {
   "cell_type": "code",
   "execution_count": 20,
   "id": "5ffc1785-1af4-481b-bd8c-0bdc4be28d18",
   "metadata": {},
   "outputs": [
    {
     "name": "stdout",
     "output_type": "stream",
     "text": [
      "THIS IS A SENTENCE.\n",
      "\n",
      "THIS IS ANOTHER SENTENCE.\n",
      "\n",
      "OBVIOUSLY THIS IS ANOTHER BORING SENTENCE.\n",
      "\n",
      "MANDATORY MONTY PYTHON REFERENCE - SPAM; SPAM; SPAM\n"
     ]
    }
   ],
   "source": [
    "print(chapter.upper())"
   ]
  },
  {
   "cell_type": "code",
   "execution_count": 25,
   "id": "c28128ce-ea55-4eb8-b686-ae954938d562",
   "metadata": {},
   "outputs": [
    {
     "name": "stdin",
     "output_type": "stream",
     "text": [
      "Name: Clarissa\n",
      "Colour: Pink\n"
     ]
    }
   ],
   "source": [
    "name = input(\"Name:\")\n",
    "colour = input(\"Colour:\")"
   ]
  },
  {
   "cell_type": "code",
   "execution_count": 51,
   "id": "5ce7bb35-5f94-44dd-af9a-af31c6263194",
   "metadata": {},
   "outputs": [
    {
     "name": "stdout",
     "output_type": "stream",
     "text": [
      "Apple\n"
     ]
    }
   ],
   "source": [
    "print(name)"
   ]
  },
  {
   "cell_type": "markdown",
   "id": "24507ace-ea4f-4338-bb09-3ce9ccb2b381",
   "metadata": {},
   "source": [
    "**Let's write a function so we can reuse code.**\n",
    "\n",
    "We use the def keyword and use brackets with optional arguments ending with a colon.\n",
    "We must indent our code by a tab or 4 spaces otherwise the interpreter will complain.\n",
    "\n",
    "If you think this is annoying - other languages such as Java and C uses braces and this can be put inconsistently depending on the style\n",
    "\n",
    "Python forces you into good habits re reading code"
   ]
  },
  {
   "cell_type": "code",
   "execution_count": 28,
   "id": "3c9f9be6-b916-495b-8f09-1a08fb20fd63",
   "metadata": {},
   "outputs": [
    {
     "name": "stdout",
     "output_type": "stream",
     "text": [
      "Clarissa's favourite colour is Pink\n"
     ]
    }
   ],
   "source": [
    "def favourite_colour(name, colour):\n",
    "    print(f\"{name}'s favourite colour is {colour}\")\n",
    "    \n",
    "favourite_colour(name, colour)"
   ]
  },
  {
   "cell_type": "code",
   "execution_count": 30,
   "id": "b86ab97e-dcb3-4ad9-9398-a504fa1ea780",
   "metadata": {},
   "outputs": [
    {
     "name": "stdin",
     "output_type": "stream",
     "text": [
      "Name: Aaron\n",
      "Colour: Blue\n"
     ]
    },
    {
     "name": "stdout",
     "output_type": "stream",
     "text": [
      "Aaron's favourite colour is Blue\n"
     ]
    }
   ],
   "source": [
    "def get_favourite_colour():\n",
    "    name = input(\"Name:\")\n",
    "    colour = input(\"Favourite Colour:\")\n",
    "    print(f\"{name}'s favourite colour is {colour}\")\n",
    "get_favourite_colour()"
   ]
  },
  {
   "cell_type": "markdown",
   "id": "06566d46-8c91-4f36-9141-514df5887fe6",
   "metadata": {},
   "source": [
    "We want to display a message praising people who like pink. We can use an if.. else statement. With an if else statement"
   ]
  },
  {
   "cell_type": "code",
   "execution_count": 41,
   "id": "35f79343-f314-4449-807e-bcfda8349cf8",
   "metadata": {},
   "outputs": [
    {
     "name": "stdin",
     "output_type": "stream",
     "text": [
      "Name: A\n",
      "Colour: Blue\n"
     ]
    },
    {
     "name": "stdout",
     "output_type": "stream",
     "text": [
      "A's Favourite colour is Blue\n",
      "Ho hum.\n"
     ]
    }
   ],
   "source": [
    "def get_favourite_colour_judgement(name = None, colour = None):\n",
    "    if name is None and colour is None:\n",
    "        name = input(\"Name:\")\n",
    "        colour = input(\"Colour:\")\n",
    "    print(f\"{name}'s Favourite colour is {colour}\")\n",
    "    if colour.lower() == \"pink\":\n",
    "        print(\"You have excellent taste in colour\")\n",
    "    else:\n",
    "        print(\"Ho hum.\")\n",
    "    return (name, colour)\n",
    "colour_info = get_favourite_colour_judgement()"
   ]
  },
  {
   "cell_type": "markdown",
   "id": "f0fb59da-a347-4651-ae47-e068f9270c04",
   "metadata": {},
   "source": [
    "You can store a list of items in a data type called a List which is mutable (can be changed) Similar to lists but immutable are tuples"
   ]
  },
  {
   "cell_type": "code",
   "execution_count": null,
   "id": "371df4ac-d8f4-44c1-869f-327caea4c7ed",
   "metadata": {},
   "outputs": [],
   "source": [
    "a_empty_list = []\n",
    "a_empty_tuple = (,)\n",
    "a_empty_string = \"\"\n"
   ]
  },
  {
   "cell_type": "markdown",
   "id": "a5dc46fe-fc89-4cce-bf0b-916f5c97357d",
   "metadata": {},
   "source": [
    "Let's print all the numbers from 1 to 100. We can use the range function `range(n, m)` where `n` is included and `m` is not"
   ]
  },
  {
   "cell_type": "code",
   "execution_count": 47,
   "id": "80661a95-21e8-4d23-bf6f-fa37769b7ac3",
   "metadata": {},
   "outputs": [
    {
     "name": "stdout",
     "output_type": "stream",
     "text": [
      "[0, 1, 2, 3, 4]\n"
     ]
    }
   ],
   "source": [
    "print(list(range(0,5)))"
   ]
  },
  {
   "cell_type": "code",
   "execution_count": 48,
   "id": "2db16c46-aff9-40ce-a895-e10bb2e530e0",
   "metadata": {},
   "outputs": [
    {
     "name": "stdout",
     "output_type": "stream",
     "text": [
      "1 2 3 4 5 6 7 8 9 10 11 12 13 14 15 16 17 18 19 20 21 22 23 24 25 26 27 28 29 30 31 32 33 34 35 36 37 38 39 40 41 42 43 44 45 46 47 48 49 50 51 52 53 54 55 56 57 58 59 60 61 62 63 64 65 66 67 68 69 70 71 72 73 74 75 76 77 78 79 80 81 82 83 84 85 86 87 88 89 90 91 92 93 94 95 96 97 98 99 100 "
     ]
    }
   ],
   "source": [
    "for i in range(1, 101):\n",
    "    print(i, end=\" \")"
   ]
  },
  {
   "cell_type": "markdown",
   "id": "6feee0d8-15ce-4a2e-b75a-ccc1d57fee3b",
   "metadata": {},
   "source": [
    "Let's get the even numbers, there is an additional argument - step."
   ]
  },
  {
   "cell_type": "code",
   "execution_count": 50,
   "id": "9d4b6e09-6516-4509-8e4b-bd2f3fc06d9f",
   "metadata": {},
   "outputs": [
    {
     "name": "stdout",
     "output_type": "stream",
     "text": [
      "2 4 6 8 10 12 14 16 18 20 22 24 26 28 30 32 34 36 38 40 42 44 46 48 50 52 54 56 58 60 62 64 66 68 70 72 74 76 78 80 82 84 86 88 90 92 94 96 98 100 "
     ]
    }
   ],
   "source": [
    "for i in range(2, 101,2):\n",
    "    print(i, end=\" \")"
   ]
  },
  {
   "cell_type": "markdown",
   "id": "48f0e282-36b0-41ff-88e6-96063bd1f1ee",
   "metadata": {},
   "source": [
    "You have 5 people who you want to get details from about their favourite colours. We need to use a `for` loop to repeat the function."
   ]
  },
  {
   "cell_type": "code",
   "execution_count": 40,
   "id": "18c738ef-5531-4f3b-99a9-c5a3862a1175",
   "metadata": {},
   "outputs": [
    {
     "name": "stdin",
     "output_type": "stream",
     "text": [
      "Name: A\n",
      "Colour: Orange\n"
     ]
    },
    {
     "name": "stdout",
     "output_type": "stream",
     "text": [
      "A's favourite colour is Orange\n",
      "Ho hum.\n"
     ]
    },
    {
     "name": "stdin",
     "output_type": "stream",
     "text": [
      "Name: B\n",
      "Colour: Blue\n"
     ]
    },
    {
     "name": "stdout",
     "output_type": "stream",
     "text": [
      "B's favourite colour is Blue\n",
      "Ho hum.\n"
     ]
    },
    {
     "name": "stdin",
     "output_type": "stream",
     "text": [
      "Name: D Lilac\n",
      "Colour: C\n"
     ]
    },
    {
     "name": "stdout",
     "output_type": "stream",
     "text": [
      "D Lilac's favourite colour is C\n",
      "Ho hum.\n"
     ]
    },
    {
     "name": "stdin",
     "output_type": "stream",
     "text": [
      "Name: Eliz\n",
      "Colour: Pink\n"
     ]
    },
    {
     "name": "stdout",
     "output_type": "stream",
     "text": [
      "Eliz's favourite colour is Pink\n",
      "You have excellent taste in colour\n"
     ]
    },
    {
     "name": "stdin",
     "output_type": "stream",
     "text": [
      "Name: H\n",
      "Colour: Gray\n"
     ]
    },
    {
     "name": "stdout",
     "output_type": "stream",
     "text": [
      "H's favourite colour is Gray\n",
      "Ho hum.\n",
      "[('A', 'Orange'), ('B', 'Blue'), ('D Lilac', 'C'), ('Eliz', 'Pink'), ('H', 'Gray')]\n"
     ]
    }
   ],
   "source": [
    "colour_info_list = []\n",
    "for i in range(5):\n",
    "    colour_info_list.append(get_favourite_colour_judgement())\n",
    "print(colour_info_list)"
   ]
  },
  {
   "cell_type": "markdown",
   "id": "e2c107c3-3bdc-4091-bf79-0b5499ce51a4",
   "metadata": {},
   "source": [
    "</br>We want to get all the names from colour_info_list\n",
    "How can we do this?"
   ]
  },
  {
   "cell_type": "markdown",
   "id": "e983bcd3-1124-4d46-a2bc-520352ff65e2",
   "metadata": {
    "tags": []
   },
   "source": [
    "### SQL\n",
    "\n",
    "**Overview**</br>\n",
    "[Basic Query](#basic_query)</br>\n",
    "[WHERE Clause](#where)</br>\n",
    "[= (EQUALS)](#equal)</br>\n",
    "[AND operator](#and)</br>\n",
    "[<> (NOT EQUAL)](#not_equal)</br>"
   ]
  },
  {
   "cell_type": "markdown",
   "id": "4e508314-e9d6-40e2-a377-dd3de8a188a5",
   "metadata": {},
   "source": [
    "#### Setting up\n",
    "We want to be able to view the tables available and the attributes of the tables. (Your tutor had investigated using freewha.com and the inbuilt MyPHPAdmin but the downside is you can't view the attributes when writing your queries)\n",
    "\n",
    "This code loads a sql extension for jupyter. Also hides the connected database and other annoying error messages.\n",
    "\n",
    "We are going to download the Chinook database from github using a command wget, commands which are executed via bash have a ! in front of them.\n",
    "We are then going to load this database and connect to it.\n",
    "\n",
    "Adding a sidebar to display useful database stuff.\n",
    "\n",
    "For future reference if you have a link to another sqlite database you must **Change the url of DB_URL and name of DB_NAME.**"
   ]
  },
  {
   "cell_type": "code",
   "execution_count": 52,
   "id": "eb695604-1811-42f9-ab3e-a4dda808766d",
   "metadata": {
    "tags": []
   },
   "outputs": [],
   "source": [
    "%reload_ext sql\n",
    "%config SqlMagic.displaycon = False\n",
    "%config SqlMagic.feedback = False\n",
    "%config SqlMagic.autolimit = 100\n",
    "%config SqlMagic.displaylimit = 15\n",
    "\n",
    "import sys\n",
    "sys.path.insert(0, './.hidden')\n",
    "from ipylab import JupyterFrontEnd, Panel\n",
    "from ipywidgets import Tab, Text, Output, HTML, HBox, VBox, Button, Layout,ButtonStyle\n",
    "app = JupyterFrontEnd()\n",
    "\n",
    "#DB_URL = \"https://github.com/lerocha/chinook-database/blob/master/ChinookDatabase/DataSources/Chinook_Sqlite.sqlite?raw=true\"\n",
    "DB_NAME = \"Testing\"\n",
    "DB_FILE = \"Testing.db\"\n",
    "\n",
    "#!wget -q -O $DB_FILE $DB_URL\n",
    "%sql sqlite:///$DB_FILE\n",
    "\n",
    "#GET TABLE INFO\n",
    "\n",
    "tablesList = !sqlite3 $DB_FILE .table\n",
    "!sqlite3 $DB_FILE .table > .hidden/tables.txt\n",
    "tables = [i for line in tablesList for i in line.split()]\n",
    "tables.sort()\n",
    "AllTables = \" \".join([table for table in tables])\n",
    "\n",
    "#RIGHT PANEL INFO\n",
    "\n",
    "tblInfo = !./.hidden/Table_View.sh $DB_FILE $AllTables\n",
    "tblAttr = !./.hidden/getAttributes.sh $DB_FILE $AllTables\n",
    "ddl = !sqlite3 $DB_FILE .schema\n",
    "\n",
    "from right_panel import display_right_panel\n",
    "display_right_panel(app, tblInfo, tblAttr, ddl)\n",
    "\n",
    "#ADD ER DIAGRAM\n",
    "IMG_FILE = f\"erd_{DB_NAME}.png\"\n",
    "!eralchemy -i sqlite:///$DB_FILE -o $IMG_FILE\n",
    "\n",
    "from image_load import load_image\n",
    "load_image(app, IMG_FILE)"
   ]
  },
  {
   "cell_type": "markdown",
   "id": "468ad482-65e5-4c35-8e86-8f3a293fe81b",
   "metadata": {},
   "source": [
    "To execute sql into this jupyter notebook, we must either make use of the `%sql` or `%%sql` magic command. `%sql` is for a single line and `%%sql` is for an entire cell."
   ]
  },
  {
   "cell_type": "markdown",
   "id": "894dafdb-e0bd-43c9-a9ba-2aba897a3a14",
   "metadata": {},
   "source": [
    "Sample Table **employees**\n",
    "\n",
    "| emp_no | birth_date | first_name | last_name | gender | hire_date |\n",
    "|---------|------------|-----------|-----------|---------|----|\n",
    "| 10001 | 1953-09-02 | Georgi | Facello | M | 1986-06-26 |\n",
    "\n",
    "employees:            emp_no, birth_date, first_name, \n",
    "                      last_namegender, hire_date\n",
    "\n",
    "<a id=\"basic_query\">All basic Data Manipulation Language (DML) queries are of this basic structure.</a>"
   ]
  },
  {
   "cell_type": "code",
   "execution_count": 4,
   "id": "8c7bc1cc-a5a4-41be-84ae-a8d350a2f91b",
   "metadata": {},
   "outputs": [
    {
     "data": {
      "text/html": [
       "<table>\n",
       "    <tr>\n",
       "        <th>first_name</th>\n",
       "        <th>last_name</th>\n",
       "        <th>birth_date</th>\n",
       "    </tr>\n",
       "    <tr>\n",
       "        <td>Georgi</td>\n",
       "        <td>Facello</td>\n",
       "        <td>1953-09-02</td>\n",
       "    </tr>\n",
       "    <tr>\n",
       "        <td>Bezalel</td>\n",
       "        <td>Simmel</td>\n",
       "        <td>1964-06-02</td>\n",
       "    </tr>\n",
       "    <tr>\n",
       "        <td>Parto</td>\n",
       "        <td>Bamford</td>\n",
       "        <td>1959-12-03</td>\n",
       "    </tr>\n",
       "    <tr>\n",
       "        <td>Chirstian</td>\n",
       "        <td>Koblick</td>\n",
       "        <td>1954-05-01</td>\n",
       "    </tr>\n",
       "    <tr>\n",
       "        <td>Kyoichi</td>\n",
       "        <td>Maliniak</td>\n",
       "        <td>1955-01-21</td>\n",
       "    </tr>\n",
       "</table>"
      ],
      "text/plain": [
       "[('Georgi', 'Facello', '1953-09-02'),\n",
       " ('Bezalel', 'Simmel', '1964-06-02'),\n",
       " ('Parto', 'Bamford', '1959-12-03'),\n",
       " ('Chirstian', 'Koblick', '1954-05-01'),\n",
       " ('Kyoichi', 'Maliniak', '1955-01-21')]"
      ]
     },
     "execution_count": 4,
     "metadata": {},
     "output_type": "execute_result"
    }
   ],
   "source": [
    "%%sql\n",
    "SELECT first_name, last_name, birth_date\n",
    "FROM employees\n",
    "LIMIT 5"
   ]
  },
  {
   "cell_type": "markdown",
   "id": "d99a5456-e2fc-4bed-99ca-6db127afe4c3",
   "metadata": {},
   "source": [
    "We are feeling really lazy and as we want to get all the columns from the table we can use the `*` operator"
   ]
  },
  {
   "cell_type": "code",
   "execution_count": 5,
   "id": "e0c00cf7-b9ca-42e9-9051-72702e0738d4",
   "metadata": {},
   "outputs": [
    {
     "data": {
      "text/html": [
       "<table>\n",
       "    <tr>\n",
       "        <th>emp_no</th>\n",
       "        <th>birth_date</th>\n",
       "        <th>first_name</th>\n",
       "        <th>last_name</th>\n",
       "        <th>gender</th>\n",
       "        <th>hire_date</th>\n",
       "    </tr>\n",
       "    <tr>\n",
       "        <td>10001</td>\n",
       "        <td>1953-09-02</td>\n",
       "        <td>Georgi</td>\n",
       "        <td>Facello</td>\n",
       "        <td>M</td>\n",
       "        <td>1986-06-26</td>\n",
       "    </tr>\n",
       "    <tr>\n",
       "        <td>10002</td>\n",
       "        <td>1964-06-02</td>\n",
       "        <td>Bezalel</td>\n",
       "        <td>Simmel</td>\n",
       "        <td>F</td>\n",
       "        <td>1985-11-21</td>\n",
       "    </tr>\n",
       "    <tr>\n",
       "        <td>10003</td>\n",
       "        <td>1959-12-03</td>\n",
       "        <td>Parto</td>\n",
       "        <td>Bamford</td>\n",
       "        <td>M</td>\n",
       "        <td>1986-08-28</td>\n",
       "    </tr>\n",
       "    <tr>\n",
       "        <td>10004</td>\n",
       "        <td>1954-05-01</td>\n",
       "        <td>Chirstian</td>\n",
       "        <td>Koblick</td>\n",
       "        <td>M</td>\n",
       "        <td>1986-12-01</td>\n",
       "    </tr>\n",
       "    <tr>\n",
       "        <td>10005</td>\n",
       "        <td>1955-01-21</td>\n",
       "        <td>Kyoichi</td>\n",
       "        <td>Maliniak</td>\n",
       "        <td>M</td>\n",
       "        <td>1989-09-12</td>\n",
       "    </tr>\n",
       "</table>"
      ],
      "text/plain": [
       "[(10001, '1953-09-02', 'Georgi', 'Facello', 'M', '1986-06-26'),\n",
       " (10002, '1964-06-02', 'Bezalel', 'Simmel', 'F', '1985-11-21'),\n",
       " (10003, '1959-12-03', 'Parto', 'Bamford', 'M', '1986-08-28'),\n",
       " (10004, '1954-05-01', 'Chirstian', 'Koblick', 'M', '1986-12-01'),\n",
       " (10005, '1955-01-21', 'Kyoichi', 'Maliniak', 'M', '1989-09-12')]"
      ]
     },
     "execution_count": 5,
     "metadata": {},
     "output_type": "execute_result"
    }
   ],
   "source": [
    "%%sql\n",
    "SELECT *\n",
    "FROM employees\n",
    "LIMIT 5"
   ]
  },
  {
   "cell_type": "markdown",
   "id": "292537b0-8f43-47aa-887b-c2f19cb7783a",
   "metadata": {},
   "source": [
    "We just want to see people's first names.\n",
    "\n",
    "When we choose a subset of columns using SQL, that is called Projection. This term comes from relational algebra."
   ]
  },
  {
   "cell_type": "code",
   "execution_count": 6,
   "id": "cdd5d872-29c5-4d9a-b62f-ed2c4b609f01",
   "metadata": {},
   "outputs": [
    {
     "data": {
      "text/html": [
       "<table>\n",
       "    <tr>\n",
       "        <th>first_name</th>\n",
       "    </tr>\n",
       "    <tr>\n",
       "        <td>Georgi</td>\n",
       "    </tr>\n",
       "    <tr>\n",
       "        <td>Bezalel</td>\n",
       "    </tr>\n",
       "    <tr>\n",
       "        <td>Parto</td>\n",
       "    </tr>\n",
       "    <tr>\n",
       "        <td>Chirstian</td>\n",
       "    </tr>\n",
       "    <tr>\n",
       "        <td>Kyoichi</td>\n",
       "    </tr>\n",
       "</table>"
      ],
      "text/plain": [
       "[('Georgi',), ('Bezalel',), ('Parto',), ('Chirstian',), ('Kyoichi',)]"
      ]
     },
     "execution_count": 6,
     "metadata": {},
     "output_type": "execute_result"
    }
   ],
   "source": [
    "%%sql\n",
    "SELECT first_name\n",
    "FROM employees\n",
    "LIMIT 5"
   ]
  },
  {
   "cell_type": "markdown",
   "id": "0c68f837-f4e1-49ce-b74f-f6511301e048",
   "metadata": {},
   "source": [
    "<a id=\"where\">Imagine you only want to find people with the first name Basil. Well in that case, let's introduce the `WHERE` clause</a>\n",
    "\n",
    "When we choose a subset of rows using SQL, that is called Selection, this also comes from relational algebra. But Selection corresponds with `WHERE` **NOT** `SELECT`\n",
    "\n",
    "<a id=\"equal\">Because we want to find all people with a first name equal to 'Basil' we use equal sign `=`</a>"
   ]
  },
  {
   "cell_type": "code",
   "execution_count": 11,
   "id": "a4392363-7b69-4d7d-b6a6-1ee06e376de2",
   "metadata": {},
   "outputs": [
    {
     "data": {
      "text/html": [
       "<table>\n",
       "    <tr>\n",
       "        <th>first_name</th>\n",
       "        <th>last_name</th>\n",
       "        <th>birth_date</th>\n",
       "    </tr>\n",
       "    <tr>\n",
       "        <td>Basil</td>\n",
       "        <td>Tramer</td>\n",
       "        <td>1961-04-24</td>\n",
       "    </tr>\n",
       "    <tr>\n",
       "        <td>Basil</td>\n",
       "        <td>Ishibashi</td>\n",
       "        <td>1955-12-12</td>\n",
       "    </tr>\n",
       "    <tr>\n",
       "        <td>Basil</td>\n",
       "        <td>Erman</td>\n",
       "        <td>1953-08-15</td>\n",
       "    </tr>\n",
       "    <tr>\n",
       "        <td>Basil</td>\n",
       "        <td>Covnot</td>\n",
       "        <td>1963-07-08</td>\n",
       "    </tr>\n",
       "    <tr>\n",
       "        <td>Basil</td>\n",
       "        <td>Perez</td>\n",
       "        <td>1952-07-21</td>\n",
       "    </tr>\n",
       "</table>"
      ],
      "text/plain": [
       "[('Basil', 'Tramer', '1961-04-24'),\n",
       " ('Basil', 'Ishibashi', '1955-12-12'),\n",
       " ('Basil', 'Erman', '1953-08-15'),\n",
       " ('Basil', 'Covnot', '1963-07-08'),\n",
       " ('Basil', 'Perez', '1952-07-21')]"
      ]
     },
     "execution_count": 11,
     "metadata": {},
     "output_type": "execute_result"
    }
   ],
   "source": [
    "%%sql\n",
    "SELECT first_name, last_name, birth_date\n",
    "FROM employees\n",
    "WHERE first_name = \"Basil\"\n",
    "LIMIT 5 "
   ]
  },
  {
   "cell_type": "markdown",
   "id": "8d21eda7-55d8-499f-9fda-ae41bcf8a80e",
   "metadata": {},
   "source": [
    "<a id=\"and\">You don't want to see any people named Perez in addition to people being named Basil so we link these together with `AND`</a>\n",
    "\n",
    "<a id=\"not_equal\"> Not equal is  `<>`</a"
   ]
  },
  {
   "cell_type": "code",
   "execution_count": 15,
   "id": "151d3ca2-4ee2-4b46-a071-c70f90656916",
   "metadata": {},
   "outputs": [
    {
     "data": {
      "text/html": [
       "<table>\n",
       "    <tr>\n",
       "        <th>first_name</th>\n",
       "        <th>last_name</th>\n",
       "        <th>birth_date</th>\n",
       "    </tr>\n",
       "    <tr>\n",
       "        <td>Basil</td>\n",
       "        <td>Tramer</td>\n",
       "        <td>1961-04-24</td>\n",
       "    </tr>\n",
       "    <tr>\n",
       "        <td>Basil</td>\n",
       "        <td>Ishibashi</td>\n",
       "        <td>1955-12-12</td>\n",
       "    </tr>\n",
       "    <tr>\n",
       "        <td>Basil</td>\n",
       "        <td>Erman</td>\n",
       "        <td>1953-08-15</td>\n",
       "    </tr>\n",
       "    <tr>\n",
       "        <td>Basil</td>\n",
       "        <td>Covnot</td>\n",
       "        <td>1963-07-08</td>\n",
       "    </tr>\n",
       "    <tr>\n",
       "        <td>Basil</td>\n",
       "        <td>Macedo</td>\n",
       "        <td>1961-09-22</td>\n",
       "    </tr>\n",
       "    <tr>\n",
       "        <td>Basil</td>\n",
       "        <td>Bonifati</td>\n",
       "        <td>1963-02-27</td>\n",
       "    </tr>\n",
       "    <tr>\n",
       "        <td>Basil</td>\n",
       "        <td>Welham</td>\n",
       "        <td>1958-05-17</td>\n",
       "    </tr>\n",
       "    <tr>\n",
       "        <td>Basil</td>\n",
       "        <td>Prampolini</td>\n",
       "        <td>1960-05-22</td>\n",
       "    </tr>\n",
       "    <tr>\n",
       "        <td>Basil</td>\n",
       "        <td>Yurek</td>\n",
       "        <td>1959-06-26</td>\n",
       "    </tr>\n",
       "    <tr>\n",
       "        <td>Basil</td>\n",
       "        <td>McFarlin</td>\n",
       "        <td>1958-04-18</td>\n",
       "    </tr>\n",
       "</table>"
      ],
      "text/plain": [
       "[('Basil', 'Tramer', '1961-04-24'),\n",
       " ('Basil', 'Ishibashi', '1955-12-12'),\n",
       " ('Basil', 'Erman', '1953-08-15'),\n",
       " ('Basil', 'Covnot', '1963-07-08'),\n",
       " ('Basil', 'Macedo', '1961-09-22'),\n",
       " ('Basil', 'Bonifati', '1963-02-27'),\n",
       " ('Basil', 'Welham', '1958-05-17'),\n",
       " ('Basil', 'Prampolini', '1960-05-22'),\n",
       " ('Basil', 'Yurek', '1959-06-26'),\n",
       " ('Basil', 'McFarlin', '1958-04-18')]"
      ]
     },
     "execution_count": 15,
     "metadata": {},
     "output_type": "execute_result"
    }
   ],
   "source": [
    "%%sql\n",
    "SELECT first_name, last_name, birth_date\n",
    "FROM employees\n",
    "WHERE first_name = 'Basil' AND last_name<> 'Perez'\n",
    "LIMIT 10"
   ]
  },
  {
   "cell_type": "code",
   "execution_count": 54,
   "id": "f9a647e3-5055-4b2b-8def-b4a7aed4ea4e",
   "metadata": {
    "jupyter": {
     "source_hidden": true
    },
    "tags": []
   },
   "outputs": [
    {
     "data": {
      "text/html": [
       "<style>\n",
       "table {float:left}\n",
       "</style>\n"
      ],
      "text/plain": [
       "<IPython.core.display.HTML object>"
      ]
     },
     "metadata": {},
     "output_type": "display_data"
    }
   ],
   "source": [
    "%%html\n",
    "<style>\n",
    "table {float:left}\n",
    "</style>"
   ]
  },
  {
   "cell_type": "markdown",
   "id": "c275909a-8b5f-40c7-8646-bc2efa3dd0a7",
   "metadata": {},
   "source": [
    "Let's say we have another table named Cat_Ownership_Summary (which was derived from another table - see this later)\n",
    "\n",
    "Table Cat_Ownership_Summary\n",
    "\n",
    "|first_name | num_cats|\n",
    "|---- | ----|\n",
    "|Clarissa  | 2|"
   ]
  },
  {
   "cell_type": "markdown",
   "id": "b35f2c05-e788-4a77-9ddf-cf5835776820",
   "metadata": {},
   "source": [
    "**cats.sql**\n",
    "```\n",
    "CREATE TABLE Cat_Ownership_Summary (\n",
    "    first_name  VARCHAR(14)     PRIMARY KEY NOT NULL,\n",
    "    num_cats INT NOT NULL\n",
    ");\n",
    "\n",
    "INSERT INTO Cat_Ownership_Summary (first_name, num_cats)\n",
    "VALUES\n",
    "('Clarissa',0),\n",
    "('Elizabeth',5),\n",
    "('Richard', 3),\n",
    "('Phillip', 7),\n",
    "('Emma', 2);\n",
    "```\n",
    "We need to create the actual database by loading this sql file into a new datebase called Cats.db"
   ]
  },
  {
   "cell_type": "code",
   "execution_count": 23,
   "id": "34e1f2b0-c08f-46f2-b09a-efa727bad20d",
   "metadata": {},
   "outputs": [],
   "source": [
    "#CREATE A TABLE\n",
    "!sqlite3 Cats2.db < cats.sql\n",
    "%sql sqlite:///Cats2.db"
   ]
  },
  {
   "cell_type": "code",
   "execution_count": 24,
   "id": "d55ab27b-11db-46d3-9258-730300a73583",
   "metadata": {},
   "outputs": [
    {
     "data": {
      "text/html": [
       "<table>\n",
       "    <tr>\n",
       "        <th>first_name</th>\n",
       "        <th>num_cats</th>\n",
       "    </tr>\n",
       "    <tr>\n",
       "        <td>Clarissa</td>\n",
       "        <td>0</td>\n",
       "    </tr>\n",
       "    <tr>\n",
       "        <td>Elizabeth</td>\n",
       "        <td>5</td>\n",
       "    </tr>\n",
       "    <tr>\n",
       "        <td>Richard</td>\n",
       "        <td>3</td>\n",
       "    </tr>\n",
       "    <tr>\n",
       "        <td>Phillip</td>\n",
       "        <td>7</td>\n",
       "    </tr>\n",
       "    <tr>\n",
       "        <td>Emma</td>\n",
       "        <td>2</td>\n",
       "    </tr>\n",
       "</table>"
      ],
      "text/plain": [
       "[('Clarissa', 0),\n",
       " ('Elizabeth', 5),\n",
       " ('Richard', 3),\n",
       " ('Phillip', 7),\n",
       " ('Emma', 2)]"
      ]
     },
     "execution_count": 24,
     "metadata": {},
     "output_type": "execute_result"
    }
   ],
   "source": [
    "%%sql\n",
    "SELECT *\n",
    "FROM Cat_Ownership_Summary"
   ]
  },
  {
   "cell_type": "markdown",
   "id": "b782d46e-5ff0-4cef-888c-5e66bf60f531",
   "metadata": {},
   "source": [
    "We want to see the person's id and number of cats who own more than 2 cats. We can use the greater than sign, `>`"
   ]
  },
  {
   "cell_type": "code",
   "execution_count": 25,
   "id": "2519234b-d347-45e5-8eb0-7e4bac6aa9f0",
   "metadata": {},
   "outputs": [
    {
     "data": {
      "text/html": [
       "<table>\n",
       "    <tr>\n",
       "        <th>first_name</th>\n",
       "        <th>num_cats</th>\n",
       "    </tr>\n",
       "    <tr>\n",
       "        <td>Elizabeth</td>\n",
       "        <td>5</td>\n",
       "    </tr>\n",
       "    <tr>\n",
       "        <td>Richard</td>\n",
       "        <td>3</td>\n",
       "    </tr>\n",
       "    <tr>\n",
       "        <td>Phillip</td>\n",
       "        <td>7</td>\n",
       "    </tr>\n",
       "</table>"
      ],
      "text/plain": [
       "[('Elizabeth', 5), ('Richard', 3), ('Phillip', 7)]"
      ]
     },
     "execution_count": 25,
     "metadata": {},
     "output_type": "execute_result"
    }
   ],
   "source": [
    "%%sql\n",
    "SELECT first_name, num_cats\n",
    "FROM Cat_Ownership_Summary\n",
    "WHERE num_cats > 2;"
   ]
  },
  {
   "cell_type": "markdown",
   "id": "892120ac-6638-4acf-8819-f01109389771",
   "metadata": {},
   "source": [
    "A strange person wants to see people who own no cats, 3 cats and 7 cats. We can use `IN` keyword"
   ]
  },
  {
   "cell_type": "code",
   "execution_count": 26,
   "id": "2a02bdd7-ce0a-4cc5-9d99-7068b2445c36",
   "metadata": {},
   "outputs": [
    {
     "data": {
      "text/html": [
       "<table>\n",
       "    <tr>\n",
       "        <th>first_name</th>\n",
       "        <th>num_cats</th>\n",
       "    </tr>\n",
       "    <tr>\n",
       "        <td>Clarissa</td>\n",
       "        <td>0</td>\n",
       "    </tr>\n",
       "    <tr>\n",
       "        <td>Richard</td>\n",
       "        <td>3</td>\n",
       "    </tr>\n",
       "    <tr>\n",
       "        <td>Phillip</td>\n",
       "        <td>7</td>\n",
       "    </tr>\n",
       "</table>"
      ],
      "text/plain": [
       "[('Clarissa', 0), ('Richard', 3), ('Phillip', 7)]"
      ]
     },
     "execution_count": 26,
     "metadata": {},
     "output_type": "execute_result"
    }
   ],
   "source": [
    "%%sql\n",
    "SELECT first_name, num_cats\n",
    "FROM Cat_Ownership_Summary\n",
    "WHERE num_cats IN (0, 3, 7);"
   ]
  },
  {
   "cell_type": "markdown",
   "id": "5c81fa2f-ac67-4fa8-82df-bd6ff2ba0ffe",
   "metadata": {},
   "source": [
    "Someone believes that the right number of cats is between 3 and 5 inclusive. We can use the `BETWEEN` keyword"
   ]
  },
  {
   "cell_type": "code",
   "execution_count": 27,
   "id": "8a1715be-9402-4733-9b1e-d8b10687b2a6",
   "metadata": {},
   "outputs": [
    {
     "data": {
      "text/html": [
       "<table>\n",
       "    <tr>\n",
       "        <th>first_name</th>\n",
       "        <th>num_cats</th>\n",
       "    </tr>\n",
       "    <tr>\n",
       "        <td>Elizabeth</td>\n",
       "        <td>5</td>\n",
       "    </tr>\n",
       "    <tr>\n",
       "        <td>Richard</td>\n",
       "        <td>3</td>\n",
       "    </tr>\n",
       "</table>"
      ],
      "text/plain": [
       "[('Elizabeth', 5), ('Richard', 3)]"
      ]
     },
     "execution_count": 27,
     "metadata": {},
     "output_type": "execute_result"
    }
   ],
   "source": [
    "%%sql\n",
    "SELECT first_name, num_cats\n",
    "FROM Cat_Ownership_Summary\n",
    "WHERE num_cats BETWEEN 3 AND 5;"
   ]
  },
  {
   "cell_type": "markdown",
   "id": "e4847104-d020-43bd-8120-3d4947759a96",
   "metadata": {},
   "source": [
    "This could also be expressed less concisely as\n",
    "```\n",
    "SELECT first_name, num_cats\n",
    "FROM Cat_Ownership_Summary\n",
    "WHERE num_cats >= 3 AND num_cats <= 5;\n",
    "```"
   ]
  },
  {
   "cell_type": "markdown",
   "id": "93d8fffd-65a7-4a88-875c-022f1ced1726",
   "metadata": {},
   "source": [
    "A person named Zara created a 'Z' day on the 2nd February. They want to find all people with a given name starting with 'Z' so they can celebrate Z day together.\n",
    "We can use the operator `LIKE` with the string operator `%` to represent 1 or more wildcard characters."
   ]
  },
  {
   "cell_type": "code",
   "execution_count": 16,
   "id": "85f45382-8e66-466f-b214-cdd4a8376bfe",
   "metadata": {},
   "outputs": [
    {
     "data": {
      "text/html": [
       "<table>\n",
       "    <tr>\n",
       "        <th>first_name</th>\n",
       "        <th>last_name</th>\n",
       "        <th>birth_date</th>\n",
       "    </tr>\n",
       "    <tr>\n",
       "        <td>Zvonko</td>\n",
       "        <td>Nyanchama</td>\n",
       "        <td>1952-06-29</td>\n",
       "    </tr>\n",
       "    <tr>\n",
       "        <td>Zhongwei</td>\n",
       "        <td>Rosen</td>\n",
       "        <td>1960-12-17</td>\n",
       "    </tr>\n",
       "    <tr>\n",
       "        <td>Zhonghui</td>\n",
       "        <td>Zyda</td>\n",
       "        <td>1957-03-29</td>\n",
       "    </tr>\n",
       "    <tr>\n",
       "        <td>Zissis</td>\n",
       "        <td>Pintelas</td>\n",
       "        <td>1961-09-14</td>\n",
       "    </tr>\n",
       "    <tr>\n",
       "        <td>Zhenbing</td>\n",
       "        <td>Perng</td>\n",
       "        <td>1955-01-29</td>\n",
       "    </tr>\n",
       "    <tr>\n",
       "        <td>Zdislav</td>\n",
       "        <td>Nastansky</td>\n",
       "        <td>1959-04-08</td>\n",
       "    </tr>\n",
       "    <tr>\n",
       "        <td>Zhenhua</td>\n",
       "        <td>Magalhaes</td>\n",
       "        <td>1958-12-07</td>\n",
       "    </tr>\n",
       "    <tr>\n",
       "        <td>Zsolt</td>\n",
       "        <td>Salinas</td>\n",
       "        <td>1964-11-12</td>\n",
       "    </tr>\n",
       "    <tr>\n",
       "        <td>Zhonghui</td>\n",
       "        <td>Preusig</td>\n",
       "        <td>1956-09-21</td>\n",
       "    </tr>\n",
       "    <tr>\n",
       "        <td>Zhiwei</td>\n",
       "        <td>Anick</td>\n",
       "        <td>1957-03-13</td>\n",
       "    </tr>\n",
       "</table>"
      ],
      "text/plain": [
       "[('Zvonko', 'Nyanchama', '1952-06-29'),\n",
       " ('Zhongwei', 'Rosen', '1960-12-17'),\n",
       " ('Zhonghui', 'Zyda', '1957-03-29'),\n",
       " ('Zissis', 'Pintelas', '1961-09-14'),\n",
       " ('Zhenbing', 'Perng', '1955-01-29'),\n",
       " ('Zdislav', 'Nastansky', '1959-04-08'),\n",
       " ('Zhenhua', 'Magalhaes', '1958-12-07'),\n",
       " ('Zsolt', 'Salinas', '1964-11-12'),\n",
       " ('Zhonghui', 'Preusig', '1956-09-21'),\n",
       " ('Zhiwei', 'Anick', '1957-03-13')]"
      ]
     },
     "execution_count": 16,
     "metadata": {},
     "output_type": "execute_result"
    }
   ],
   "source": [
    "%%sql\n",
    "SELECT first_name, last_name, birth_date\n",
    "FROM employees\n",
    "WHERE first_name LIKE \"Z%\"\n",
    "LIMIT 10"
   ]
  },
  {
   "cell_type": "markdown",
   "id": "dd6cf210-cc13-418c-a282-644060df73ee",
   "metadata": {},
   "source": [
    "We wish to order the results in the database by a particular attribute. We need to use the `ORDER BY` command. The default order is in ascending order but one can specify `ASC` or `DESC` for ascending or descending order respectively"
   ]
  },
  {
   "cell_type": "code",
   "execution_count": 33,
   "id": "2956c2d1-d693-42cf-a14c-d080f9141c4c",
   "metadata": {},
   "outputs": [
    {
     "data": {
      "text/html": [
       "<table>\n",
       "    <tr>\n",
       "        <th>first_name</th>\n",
       "        <th>num_cats</th>\n",
       "    </tr>\n",
       "    <tr>\n",
       "        <td>Phillip</td>\n",
       "        <td>7</td>\n",
       "    </tr>\n",
       "    <tr>\n",
       "        <td>Elizabeth</td>\n",
       "        <td>5</td>\n",
       "    </tr>\n",
       "    <tr>\n",
       "        <td>Richard</td>\n",
       "        <td>3</td>\n",
       "    </tr>\n",
       "</table>"
      ],
      "text/plain": [
       "[('Phillip', 7), ('Elizabeth', 5), ('Richard', 3)]"
      ]
     },
     "execution_count": 33,
     "metadata": {},
     "output_type": "execute_result"
    }
   ],
   "source": [
    "%%sql\n",
    "SELECT first_name, num_cats\n",
    "FROM Cat_Ownership_Summary\n",
    "WHERE num_cats > 2\n",
    "ORDER BY num_cats DESC;"
   ]
  },
  {
   "cell_type": "code",
   "execution_count": 34,
   "id": "69155c93-4ff9-44c1-85c8-3e75f88ea9c8",
   "metadata": {},
   "outputs": [
    {
     "data": {
      "text/html": [
       "<table>\n",
       "    <tr>\n",
       "        <th>first_name</th>\n",
       "        <th>num_cats</th>\n",
       "    </tr>\n",
       "    <tr>\n",
       "        <td>Elizabeth</td>\n",
       "        <td>5</td>\n",
       "    </tr>\n",
       "    <tr>\n",
       "        <td>Phillip</td>\n",
       "        <td>7</td>\n",
       "    </tr>\n",
       "    <tr>\n",
       "        <td>Richard</td>\n",
       "        <td>3</td>\n",
       "    </tr>\n",
       "</table>"
      ],
      "text/plain": [
       "[('Elizabeth', 5), ('Phillip', 7), ('Richard', 3)]"
      ]
     },
     "execution_count": 34,
     "metadata": {},
     "output_type": "execute_result"
    }
   ],
   "source": [
    "%%sql\n",
    "SELECT first_name, num_cats\n",
    "FROM Cat_Ownership_Summary\n",
    "WHERE num_cats > 2\n",
    "ORDER BY first_name;"
   ]
  },
  {
   "cell_type": "markdown",
   "id": "84c2af9b-ee0e-4d0b-9b73-7543afe3cee8",
   "metadata": {},
   "source": [
    "Alternatively you can access the database using sqlite3 for a sqlite database and execute commands. For this to work; we get a instance of bash working + the commands to go into the sqlite executable. However this is not interactive unlike bash. The developer of the ipython-sql plugin did some work to make it output more prettily"
   ]
  },
  {
   "cell_type": "code",
   "execution_count": 10,
   "id": "934d1ac1-6f0f-4c14-8b71-917f561a446f",
   "metadata": {},
   "outputs": [
    {
     "name": "stdout",
     "output_type": "stream",
     "text": [
      "| AlbumId |                 Title                 | ArtistId |\n",
      "|---------|---------------------------------------|----------|\n",
      "| 1       | For Those About To Rock We Salute You | 1        |\n",
      "| 2       | Balls to the Wall                     | 2        |\n",
      "| 3       | Restless and Wild                     | 2        |\n",
      "| 4       | Let There Be Rock                     | 1        |\n",
      "| 5       | Big Ones                              | 3        |\n",
      "| 6       | Jagged Little Pill                    | 4        |\n",
      "| 7       | Facelift                              | 5        |\n",
      "| 8       | Warner 25 Anos                        | 6        |\n",
      "| 9       | Plays Metallica By Four Cellos        | 7        |\n",
      "| 10      | Audioslave                            | 8        |\n"
     ]
    }
   ],
   "source": [
    "%%bash\n",
    "sqlite3 Chinook.db\n",
    ".headers on\n",
    ".mode markdown\n",
    "SELECT * FROM Album\n",
    "LIMIT 10;\n",
    ".quit"
   ]
  }
 ],
 "metadata": {
  "kernelspec": {
   "display_name": "Python 3 (ipykernel)",
   "language": "python",
   "name": "python3"
  },
  "language_info": {
   "codemirror_mode": {
    "name": "ipython",
    "version": 3
   },
   "file_extension": ".py",
   "mimetype": "text/x-python",
   "name": "python",
   "nbconvert_exporter": "python",
   "pygments_lexer": "ipython3",
   "version": "3.7.10"
  }
 },
 "nbformat": 4,
 "nbformat_minor": 5
}
