{
 "cells": [
  {
   "cell_type": "code",
   "execution_count": null,
   "id": "864acbed-2551-41d8-8f63-8d29db0f7ee7",
   "metadata": {
    "kernel": "xsql",
    "tags": []
   },
   "outputs": [],
   "source": [
    "%LOAD sqlite3 db=Testing.db timeout=2 shared_cache=true"
   ]
  },
  {
   "cell_type": "code",
   "execution_count": null,
   "id": "6bf488ca-2c9e-4324-891e-9ae4dfb53d5d",
   "metadata": {
    "kernel": "SoS",
    "tags": []
   },
   "outputs": [],
   "source": [
    "!cat /tmp/tmpp2goc7fq.json"
   ]
  },
  {
   "cell_type": "code",
   "execution_count": null,
   "id": "0464877d-089d-4307-b5ad-3a53c5a6a503",
   "metadata": {
    "kernel": "xsql",
    "tags": []
   },
   "outputs": [],
   "source": [
    "SELECT * FROM employees WHERE first_name LIKE 'G%' LIMIT 10"
   ]
  }
 ],
 "metadata": {
  "kernelspec": {
   "display_name": "SoS",
   "language": "sos",
   "name": "sos"
  },
  "language_info": {
   "codemirror_mode": "sos",
   "file_extension": ".sos",
   "mimetype": "text/x-sos",
   "name": "sos",
   "nbconvert_exporter": "sos_notebook.converter.SoS_Exporter",
   "pygments_lexer": "sos"
  },
  "sos": {
   "kernels": [
    [
     "SoS",
     "sos",
     "",
     "",
     "sos"
    ],
    [
     "xsql",
     "xsql",
     "sqlite",
     "",
     ""
    ]
   ],
   "version": "0.22.8"
  }
 },
 "nbformat": 4,
 "nbformat_minor": 5
}
