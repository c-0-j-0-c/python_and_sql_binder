{
 "cells": [
  {
   "cell_type": "markdown",
   "id": "910ab564-d6f7-44b2-a870-bd2c3d1a23d8",
   "metadata": {},
   "source": [
    "## Chapter 4\n",
    "### Practice Questions\n",
    "**1. What is []?**\n",
    "<br>&emsp;&nbsp;A list.<br>\n",
    "**2. How would you assign the value 'hello' as the third value in a list stored in a variable named spam? (Assume spam contains [2, 4, 6, 8, 10].)**\n",
    "<br>&emsp;&nbsp;`spam[3] = 'hello'`<br>\n",
    "\n",
    "#### For the following three questions, let’s say spam contains the list ['a', 'b', 'c', 'd'].\n",
    "\n",
    "**3. What does spam[int(int('3' * 2) // 11)] evaluate to?**\n",
    "<br>&emsp;&nbsp;`'c'`<br>\n",
    "**4. What does spam[-1] evaluate to?**\n",
    "<br>&emsp;&nbsp;`'d'`<br>\n",
    "**5. What does spam[:2] evaluate to?**\n",
    "<br>&emsp;&nbsp;`['a', 'b']`<br>\n",
    "\n",
    "#### For the following three questions, let’s say bacon contains the list [3.14, 'cat', 11, 'cat', True].\n",
    "\n",
    "**6. What does bacon.index('cat') evaluate to?**\n",
    "<br>&emsp;&nbsp;1<br>\n",
    "**7. What does bacon.append(99) make the list value in bacon look like?**\n",
    "<br>&emsp;&nbsp;`[3.14, 'cat', 11, 'cat, True, 99]`<br>\n",
    "**8. What does bacon.remove('cat') make the list value in bacon look like?**\n",
    "<br>&emsp;&nbsp;[3.14, 11, 'cat', True]\n",
    "<br>&emsp;&nbsp;If you wanted to remove all instances of cat you would have to do<br>\n",
    "```\n",
    "    while 'cat' in bacon:\n",
    "        bacon.remove('cat')\n",
    "```\n",
    "**9. What are the operators for list concatenation and list replication?**\n",
    "<br>&emsp;&nbsp;+ for list concatenation and * for list replication<br>\n",
    "**10. What is the difference between the append() and insert() list methods?**\n",
    "<br>&emsp;&ensp; The append() methods only requires one argument, an item and puts the item at the end of the list. The insert() method requires two arguments, the position of the list and the item.<br>\n",
    "**11. What are two ways to remove values from a list?**\n",
    "<br>&emsp;&ensp; del bacon[index] or bacon.remove(value)<br>\n",
    "**12. Name a few ways that list values are similar to string values.**\n",
    "<br>&emsp;&ensp;&nbsp;You can get slice strings in a similar manner to lists and get individual characters via the index. You can also do string concatenation and string replication using + and * respectively. You cannot edit them though as they are immuatable..<br>\n",
    "**13. What is the difference between lists and tuples?**\n",
    "<br>&emsp;&ensp;&nbsp;Lists are mutable but tuples are immutable.<br>\n",
    "**14. How do you type the tuple value that has just the integer value 42 in it?**\n",
    "<br>&emsp;&ensp;&nbsp;(42,)<br>\n",
    "**15. How can you get the tuple form of a list value? How can you get the list form of a tuple value?**\n",
    "<br>&emsp;&ensp;&nbsp;The tuple form of a list named list_name is tuple(list_name) whereas the list form of a tuple name tuple_name is list(tuple_name)<br>\n",
    "**16. Variables that “contain” list values don’t actually contain lists directly. What do they contain instead?**\n",
    "<br>&emsp;&ensp;&nbsp;A reference to the list<br>\n",
    "**17. What is the difference between copy.copy() and copy.deepcopy()?**<br>&emsp;&ensp;&nbsp;The difference between the copy.copy() and copy.deepcopy() methods and is the deepcopy method will create separate copies of nested list within a list whereas copy method will copy the reference to the list.<br>"
   ]
  },
  {
   "cell_type": "markdown",
   "id": "42c6e8ed-ec53-4398-946c-a58e83fa6e02",
   "metadata": {
    "tags": []
   },
   "source": [
    "## Practice Projects\n",
    "For practice, write programs to do the following tasks.\n",
    "\n",
    "### Comma Code\n",
    "Say you have a list value like this:\n",
    "```\n",
    "spam = ['apples', 'bananas', 'tofu', 'cats']\n",
    "```\n",
    "Write a function that takes a list value as an argument and returns a string with all the items separated by a comma and a space, with and inserted before the last item. For example, passing the previous spam list to the function would return 'apples, bananas, tofu, and cats'. But your function should be able to work with any list value passed to it. Be sure to test the case where an empty list [] is passed to your function."
   ]
  },
  {
   "cell_type": "code",
   "execution_count": 7,
   "id": "7ef69bbc-a745-428a-bc34-47b39817944b",
   "metadata": {},
   "outputs": [],
   "source": [
    "def output_string(lst):\n",
    "    if len(lst) == 0:\n",
    "        return None\n",
    "    elif len(lst) == 1:\n",
    "        return spam[0]\n",
    "    return \", \".join(lst[0:-1]) + f\", and {lst[-1]}\""
   ]
  },
  {
   "cell_type": "code",
   "execution_count": 8,
   "id": "954f5d5c-6f9e-44c4-8954-f33ef273da5a",
   "metadata": {},
   "outputs": [
    {
     "data": {
      "text/plain": [
       "'apples, and bananas'"
      ]
     },
     "execution_count": 8,
     "metadata": {},
     "output_type": "execute_result"
    }
   ],
   "source": [
    "spam = ['apples', 'bananas', 'tofu', 'cats']\n",
    "output_string(spam)\n",
    "spam = ['apples', 'bananas']\n",
    "output_string(spam)"
   ]
  },
  {
   "cell_type": "markdown",
   "id": "859b38d2-6f44-4c47-abae-2beea4ecce89",
   "metadata": {
    "tags": []
   },
   "source": [
    "### Coin Flip Streaks\n",
    "For this exercise, we’ll try doing an experiment. If you flip a coin 100 times and write down an “H” for each heads and “T” for each tails, you’ll create a list that looks like “T T T T H H H H T T.” If you ask a human to make up 100 random coin flips, you’ll probably end up with alternating head-tail results like “H T H T H H T H T T,” which looks random (to humans), but isn’t mathematically random. A human will almost never write down a streak of six heads or six tails in a row, even though it is highly likely to happen in truly random coin flips. Humans are predictably bad at being random.\n",
    "\n",
    "Write a program to find out how often a streak of six heads or a streak of six tails comes up in a randomly generated list of heads and tails. Your program breaks up the experiment into two parts: the first part generates a list of randomly selected 'heads' and 'tails' values, and the second part checks if there is a streak in it. Put all of this code in a loop that repeats the experiment 10,000 times so we can find out what percentage of the coin flips contains a streak of six heads or tails in a row. As a hint, the function call random.randint(0, 1) will return a 0 value 50% of the time and a 1 value the other 50% of the time.\n",
    "\n",
    "You can start with the following template:\n",
    "```\n",
    "import random\n",
    "numberOfStreaks = 0\n",
    "for experimentNumber in range(10000):\n",
    "    # Code that creates a list of 100 'heads' or 'tails' values.\n",
    "\n",
    "    # Code that checks if there is a streak of 6 heads or tails in a row.\n",
    "print('Chance of streak: %s%%' % (numberOfStreaks / 100))\n",
    "```\n",
    "Of course, this is only an estimate, but 10,000 is a decent sample size. Some knowledge of mathematics could give you the exact answer and save you the trouble of writing a program, but programmers are notoriously bad at math."
   ]
  },
  {
   "cell_type": "code",
   "execution_count": 1,
   "id": "14f93eac-0b74-4973-a855-022d80c4a139",
   "metadata": {},
   "outputs": [
    {
     "name": "stdout",
     "output_type": "stream",
     "text": [
      "Chance of streak: 2.947%\n",
      "Actual probability is 2 x (1/2**6) 3.125%\n"
     ]
    }
   ],
   "source": [
    "import random, re\n",
    "numberOfStreaks = 0\n",
    "prog = re.compile(r'(?=(H{6}|T{6}))')\n",
    "\n",
    "for experimentNumber in range(10000):\n",
    "    coins = \"\".join(['H' if random.randint(0,1) == 0 else 'T' for trial in range(100)])\n",
    "    \n",
    "    matches = prog.finditer(coins)\n",
    "    numberOfStreaks += sum([1 for match in matches])\n",
    "   \n",
    "   # print(experimentNumber)\n",
    "print('Chance of streak: %s%%' % (numberOfStreaks / 10000))\n",
    "\n",
    "print(f'Actual probability is 2 x (1/2**6) {1/32*100}%')"
   ]
  },
  {
   "cell_type": "markdown",
   "id": "7767cd46-e160-48c6-9e1e-0fcf804eea8f",
   "metadata": {
    "tags": []
   },
   "source": [
    "### Character Picture Grid\n",
    "Say you have a list of lists where each value in the inner lists is a one-character string, like this:\n",
    "```\n",
    "grid = [['.', '.', '.', '.', '.', '.'],\n",
    "        ['.', 'O', 'O', '.', '.', '.'],\n",
    "        ['O', 'O', 'O', 'O', '.', '.'],\n",
    "        ['O', 'O', 'O', 'O', 'O', '.'],\n",
    "        ['.', 'O', 'O', 'O', 'O', 'O'],\n",
    "        ['O', 'O', 'O', 'O', 'O', '.'],\n",
    "        ['O', 'O', 'O', 'O', '.', '.'],\n",
    "        ['.', 'O', 'O', '.', '.', '.'],\n",
    "        ['.', '.', '.', '.', '.', '.']]\n",
    "```\n",
    "Think of `grid[x][y]` as being the character at the x- and y-coordinates of a “picture” drawn with text characters. The (0, 0) origin is in the upper-left corner, the x-coordinates increase going right, and the y-coordinates increase going down.\n",
    "\n",
    "Copy the previous grid value, and write code that uses it to print the image.\n",
    "```\n",
    "..OO.OO..\n",
    ".OOOOOOO.\n",
    ".OOOOOOO.\n",
    "..OOOOO..\n",
    "...OOO...\n",
    "....O....\n",
    "```\n",
    "Hint: You will need to use a loop in a loop in order to print `grid[0][0]`, then `grid[1][0]`, then grid[2][0], and so on, up to grid[8][0]. This will finish the first row, so then print a newline. Then your program should print grid[0][1], then grid[1][1], then grid[2][1], and so on. The last thing your program will print is `grid[8][5]`.\n",
    "\n",
    "Also, remember to pass the end keyword argument to `print()` if you don’t want a newline printed automatically after each `print()` call."
   ]
  },
  {
   "cell_type": "code",
   "execution_count": 31,
   "id": "5235e7b7-d79f-4064-bc7d-f4af1a0c11e8",
   "metadata": {},
   "outputs": [
    {
     "name": "stdout",
     "output_type": "stream",
     "text": [
      "..OO.OO..\n",
      ".OOOOOOO.\n",
      ".OOOOOOO.\n",
      "..OOOOO..\n",
      "...OOO...\n",
      "....O....\n",
      "\n",
      "....OOOO..OOOO....\n",
      "..OOOOOOOOOOOOOO..\n",
      "..OOOOOOOOOOOOOO..\n",
      "....OOOOOOOOOO....\n",
      "......OOOOOO......\n",
      "........OO........\n"
     ]
    }
   ],
   "source": [
    "grid = [['.', '.', '.', '.', '.', '.'],\n",
    "        ['.', 'O', 'O', '.', '.', '.'],\n",
    "        ['O', 'O', 'O', 'O', '.', '.'],\n",
    "        ['O', 'O', 'O', 'O', 'O', '.'],\n",
    "        ['.', 'O', 'O', 'O', 'O', 'O'],\n",
    "        ['O', 'O', 'O', 'O', 'O', '.'],\n",
    "        ['O', 'O', 'O', 'O', '.', '.'],\n",
    "        ['.', 'O', 'O', '.', '.', '.'],\n",
    "        ['.', '.', '.', '.', '.', '.']]\n",
    "\n",
    "def print_heart(repeat=1):\n",
    "    for col in range(len(grid[0])):\n",
    "        for row in range(len(grid)):\n",
    "            print(grid[row][col]*repeat,end = '')\n",
    "        print()\n",
    "print_heart()\n",
    "print()\n",
    "print_heart(2)"
   ]
  }
 ],
 "metadata": {
  "kernelspec": {
   "display_name": "Python 3 (ipykernel)",
   "language": "python",
   "name": "python3"
  },
  "language_info": {
   "codemirror_mode": {
    "name": "ipython",
    "version": 3
   },
   "file_extension": ".py",
   "mimetype": "text/x-python",
   "name": "python",
   "nbconvert_exporter": "python",
   "pygments_lexer": "ipython3",
   "version": "3.8.10"
  }
 },
 "nbformat": 4,
 "nbformat_minor": 5
}
