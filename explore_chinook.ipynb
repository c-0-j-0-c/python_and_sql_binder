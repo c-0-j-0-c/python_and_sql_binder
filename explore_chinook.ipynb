{
 "cells": [
  {
   "cell_type": "markdown",
   "id": "4e508314-e9d6-40e2-a377-dd3de8a188a5",
   "metadata": {},
   "source": [
    "#### Setting up\n",
    "We want to be able to view the tables available and the attributes of the tables. (Your tutor had investigated using freewha.com and the inbuilt MyPHPAdmin but the downside is you can't view the attributes when writing your queries)\n",
    "\n",
    "This code loads a sql extension for jupyter. Also hides the connected database and other annoying error messages.\n",
    "\n",
    "We are going to download the Chinook database from github using a command wget, commands which are executed via bash have a ! in front of them.\n",
    "We are then going to load this database and connect to it.\n",
    "\n",
    "Adding a sidebar to display useful database stuff.\n",
    "\n",
    "For future reference if you have a link to another sqlite database you must **Change the url of DB_URL and name of DB_NAME.**"
   ]
  },
  {
   "cell_type": "code",
   "execution_count": 1,
   "id": "eb695604-1811-42f9-ab3e-a4dda808766d",
   "metadata": {
    "tags": []
   },
   "outputs": [],
   "source": [
    "%reload_ext sql\n",
    "%config SqlMagic.displaycon = False\n",
    "%config SqlMagic.feedback = False\n",
    "\n",
    "import sys\n",
    "sys.path.insert(0, './.hidden')\n",
    "from ipylab import JupyterFrontEnd, Panel\n",
    "from ipywidgets import Tab, Text, Output, HTML, HBox, VBox, Button, Layout,ButtonStyle\n",
    "app = JupyterFrontEnd()\n",
    "\n",
    "DB_URL = \"https://github.com/lerocha/chinook-database/blob/master/ChinookDatabase/DataSources/Chinook_Sqlite.sqlite?raw=true\"\n",
    "DB_NAME = \"Chinook\"\n",
    "DB_FILE = \"Chinook.db\"\n",
    "\n",
    "!wget -q -O $DB_FILE $DB_URL\n",
    "%sql sqlite:///$DB_FILE\n",
    "\n",
    "#GET TABLE INFO\n",
    "\n",
    "tablesList = !sqlite3 $DB_FILE .table\n",
    "!sqlite3 $DB_FILE .table > .hidden/tables.txt\n",
    "tables = [i for line in tablesList for i in line.split()]\n",
    "tables.sort()\n",
    "AllTables = \" \".join([table for table in tables])\n",
    "\n",
    "#RIGHT PANEL INFO\n",
    "\n",
    "tblInfo = !./.hidden/Table_View.sh $DB_FILE $AllTables\n",
    "tblAttr = !./.hidden/getAttributes.sh $DB_FILE $AllTables\n",
    "ddl = !sqlite3 $DB_FILE .schema\n",
    "\n",
    "from right_panel import display_right_panel\n",
    "display_right_panel(app, tblInfo, tblAttr, ddl)\n",
    "\n",
    "#ADD ER DIAGRAM\n",
    "IMG_FILE = f\"erd_{DB_NAME}.png\"\n",
    "!eralchemy -i sqlite:///$DB_FILE -o $IMG_FILE\n",
    "\n",
    "from image_load import load_image\n",
    "load_image(app, IMG_FILE)"
   ]
  },
  {
   "cell_type": "markdown",
   "id": "9c5f236f-4eb6-4e11-bc77-664006eaa3eb",
   "metadata": {},
   "source": [
    "Some Wizardry to Display Table names on the left"
   ]
  },
  {
   "cell_type": "markdown",
   "id": "468ad482-65e5-4c35-8e86-8f3a293fe81b",
   "metadata": {},
   "source": [
    "To execute sql into this jupyter notebook, we must either make use of the `%sql` or `%%sql` magic command. `%sql` is for a single line and `%%sql` is for an entire cell."
   ]
  },
  {
   "cell_type": "code",
   "execution_count": 4,
   "id": "5647be2f-854a-4355-939d-5cbd23d0488f",
   "metadata": {},
   "outputs": [
    {
     "data": {
      "text/html": [
       "<table>\n",
       "    <tr>\n",
       "        <th>AlbumId</th>\n",
       "        <th>Title</th>\n",
       "        <th>ArtistId</th>\n",
       "    </tr>\n",
       "    <tr>\n",
       "        <td>1</td>\n",
       "        <td>For Those About To Rock We Salute You</td>\n",
       "        <td>1</td>\n",
       "    </tr>\n",
       "    <tr>\n",
       "        <td>2</td>\n",
       "        <td>Balls to the Wall</td>\n",
       "        <td>2</td>\n",
       "    </tr>\n",
       "    <tr>\n",
       "        <td>3</td>\n",
       "        <td>Restless and Wild</td>\n",
       "        <td>2</td>\n",
       "    </tr>\n",
       "    <tr>\n",
       "        <td>4</td>\n",
       "        <td>Let There Be Rock</td>\n",
       "        <td>1</td>\n",
       "    </tr>\n",
       "    <tr>\n",
       "        <td>5</td>\n",
       "        <td>Big Ones</td>\n",
       "        <td>3</td>\n",
       "    </tr>\n",
       "    <tr>\n",
       "        <td>6</td>\n",
       "        <td>Jagged Little Pill</td>\n",
       "        <td>4</td>\n",
       "    </tr>\n",
       "    <tr>\n",
       "        <td>7</td>\n",
       "        <td>Facelift</td>\n",
       "        <td>5</td>\n",
       "    </tr>\n",
       "    <tr>\n",
       "        <td>8</td>\n",
       "        <td>Warner 25 Anos</td>\n",
       "        <td>6</td>\n",
       "    </tr>\n",
       "    <tr>\n",
       "        <td>9</td>\n",
       "        <td>Plays Metallica By Four Cellos</td>\n",
       "        <td>7</td>\n",
       "    </tr>\n",
       "    <tr>\n",
       "        <td>10</td>\n",
       "        <td>Audioslave</td>\n",
       "        <td>8</td>\n",
       "    </tr>\n",
       "</table>"
      ],
      "text/plain": [
       "[(1, 'For Those About To Rock We Salute You', 1),\n",
       " (2, 'Balls to the Wall', 2),\n",
       " (3, 'Restless and Wild', 2),\n",
       " (4, 'Let There Be Rock', 1),\n",
       " (5, 'Big Ones', 3),\n",
       " (6, 'Jagged Little Pill', 4),\n",
       " (7, 'Facelift', 5),\n",
       " (8, 'Warner 25 Anos', 6),\n",
       " (9, 'Plays Metallica By Four Cellos', 7),\n",
       " (10, 'Audioslave', 8)]"
      ]
     },
     "execution_count": 4,
     "metadata": {},
     "output_type": "execute_result"
    }
   ],
   "source": [
    "%%sql\n",
    "SELECT * \n",
    "FROM Album\n",
    "LIMIT 10"
   ]
  },
  {
   "cell_type": "markdown",
   "id": "84c2af9b-ee0e-4d0b-9b73-7543afe3cee8",
   "metadata": {},
   "source": [
    "Alternatively you can access the database using sqlite3 for a sqlite database and execute commands. For this to work; we get a instance of bash working + the commands to go into the sqlite executable. However this is not interactive unlike bash. The developer of the ipython-sql plugin did some work to make it output more prettily"
   ]
  },
  {
   "cell_type": "code",
   "execution_count": 10,
   "id": "934d1ac1-6f0f-4c14-8b71-917f561a446f",
   "metadata": {},
   "outputs": [
    {
     "name": "stdout",
     "output_type": "stream",
     "text": [
      "| AlbumId |                 Title                 | ArtistId |\n",
      "|---------|---------------------------------------|----------|\n",
      "| 1       | For Those About To Rock We Salute You | 1        |\n",
      "| 2       | Balls to the Wall                     | 2        |\n",
      "| 3       | Restless and Wild                     | 2        |\n",
      "| 4       | Let There Be Rock                     | 1        |\n",
      "| 5       | Big Ones                              | 3        |\n",
      "| 6       | Jagged Little Pill                    | 4        |\n",
      "| 7       | Facelift                              | 5        |\n",
      "| 8       | Warner 25 Anos                        | 6        |\n",
      "| 9       | Plays Metallica By Four Cellos        | 7        |\n",
      "| 10      | Audioslave                            | 8        |\n"
     ]
    }
   ],
   "source": [
    "%%bash\n",
    "sqlite3 Chinook.db\n",
    ".headers on\n",
    ".mode markdown\n",
    "SELECT * FROM Album\n",
    "LIMIT 10;\n",
    ".quit"
   ]
  }
 ],
 "metadata": {
  "kernelspec": {
   "display_name": "Python 3 (ipykernel)",
   "language": "python",
   "name": "python3"
  },
  "language_info": {
   "codemirror_mode": {
    "name": "ipython",
    "version": 3
   },
   "file_extension": ".py",
   "mimetype": "text/x-python",
   "name": "python",
   "nbconvert_exporter": "python",
   "pygments_lexer": "ipython3",
   "version": "3.7.10"
  }
 },
 "nbformat": 4,
 "nbformat_minor": 5
}
