{
 "cells": [
  {
   "cell_type": "markdown",
   "id": "4e508314-e9d6-40e2-a377-dd3de8a188a5",
   "metadata": {},
   "source": [
    "##### Setting up\n",
    "Want to be able to view the tables available and the attributes of the tables\n",
    "\n",
    "Change the url of DB_URL and name of DB_NAME"
   ]
  },
  {
   "cell_type": "code",
   "execution_count": 65,
   "id": "eb695604-1811-42f9-ab3e-a4dda808766d",
   "metadata": {
    "tags": []
   },
   "outputs": [],
   "source": [
    "%reload_ext sql\n",
    "%config SqlMagic.displaycon = False\n",
    "%config SqlMagic.feedback = False\n",
    "\n",
    "DB_URL = \"https://github.com/lerocha/chinook-database/blob/master/ChinookDatabase/DataSources/Chinook_Sqlite.sqlite?raw=true\"\n",
    "DB_NAME = \"Chinook.db\"\n",
    "\n",
    "!wget -q -O $DB_NAME $DB_URL\n",
    "%sql sqlite:///$DB_NAME\n",
    "from sidecar import Sidecar"
   ]
  },
  {
   "cell_type": "markdown",
   "id": "9c5f236f-4eb6-4e11-bc77-664006eaa3eb",
   "metadata": {},
   "source": [
    "Some Wizardry to Display Table names on the left"
   ]
  },
  {
   "cell_type": "code",
   "execution_count": 66,
   "id": "493a1624-bebc-4910-82e0-44911efe6100",
   "metadata": {},
   "outputs": [],
   "source": [
    "%%capture tablesStr\n",
    "!sqlite3 $DB_NAME .table"
   ]
  },
  {
   "cell_type": "code",
   "execution_count": 149,
   "id": "464f06a2-1ec8-4d32-8ed4-3c6a5a6855bc",
   "metadata": {
    "tags": []
   },
   "outputs": [],
   "source": [
    "!sqlite3 $DB_NAME .table > tables.txt\n",
    "tables = tablesStr.stdout.split()\n",
    "tables.sort()\n",
    "AllTables = \" \".join([table for table in tables])"
   ]
  },
  {
   "cell_type": "code",
   "execution_count": null,
   "id": "527928a7-5048-464f-ae39-ad76b10b79ce",
   "metadata": {},
   "outputs": [],
   "source": [
    "SELECT name FROM pragma_table_info('Album')"
   ]
  },
  {
   "cell_type": "code",
   "execution_count": 160,
   "id": "d52eabd9-393d-4ddf-8998-b007049af0d8",
   "metadata": {
    "tags": []
   },
   "outputs": [],
   "source": [
    "SC = [Sidecar(title='Tables'), Sidecar(title='All Table Attributes'), Sidecar(title='DDL of Tables')]\n",
    "with SC[0]:\n",
    "    !./TableView.sh Chinook.db $AllTables \n",
    "with SC[1]:\n",
    "        !./getAttributes.sh Chinook.db $AllTables \n",
    "with SC[2]:\n",
    "    !sqlite3 Chinook.db .schema"
   ]
  },
  {
   "cell_type": "code",
   "execution_count": 63,
   "id": "5647be2f-854a-4355-939d-5cbd23d0488f",
   "metadata": {},
   "outputs": [
    {
     "data": {
      "text/html": [
       "<table>\n",
       "    <tr>\n",
       "        <th>AlbumId</th>\n",
       "        <th>Title</th>\n",
       "        <th>ArtistId</th>\n",
       "    </tr>\n",
       "    <tr>\n",
       "        <td>1</td>\n",
       "        <td>For Those About To Rock We Salute You</td>\n",
       "        <td>1</td>\n",
       "    </tr>\n",
       "    <tr>\n",
       "        <td>2</td>\n",
       "        <td>Balls to the Wall</td>\n",
       "        <td>2</td>\n",
       "    </tr>\n",
       "    <tr>\n",
       "        <td>3</td>\n",
       "        <td>Restless and Wild</td>\n",
       "        <td>2</td>\n",
       "    </tr>\n",
       "    <tr>\n",
       "        <td>4</td>\n",
       "        <td>Let There Be Rock</td>\n",
       "        <td>1</td>\n",
       "    </tr>\n",
       "    <tr>\n",
       "        <td>5</td>\n",
       "        <td>Big Ones</td>\n",
       "        <td>3</td>\n",
       "    </tr>\n",
       "    <tr>\n",
       "        <td>6</td>\n",
       "        <td>Jagged Little Pill</td>\n",
       "        <td>4</td>\n",
       "    </tr>\n",
       "    <tr>\n",
       "        <td>7</td>\n",
       "        <td>Facelift</td>\n",
       "        <td>5</td>\n",
       "    </tr>\n",
       "    <tr>\n",
       "        <td>8</td>\n",
       "        <td>Warner 25 Anos</td>\n",
       "        <td>6</td>\n",
       "    </tr>\n",
       "    <tr>\n",
       "        <td>9</td>\n",
       "        <td>Plays Metallica By Four Cellos</td>\n",
       "        <td>7</td>\n",
       "    </tr>\n",
       "    <tr>\n",
       "        <td>10</td>\n",
       "        <td>Audioslave</td>\n",
       "        <td>8</td>\n",
       "    </tr>\n",
       "</table>"
      ],
      "text/plain": [
       "[(1, 'For Those About To Rock We Salute You', 1),\n",
       " (2, 'Balls to the Wall', 2),\n",
       " (3, 'Restless and Wild', 2),\n",
       " (4, 'Let There Be Rock', 1),\n",
       " (5, 'Big Ones', 3),\n",
       " (6, 'Jagged Little Pill', 4),\n",
       " (7, 'Facelift', 5),\n",
       " (8, 'Warner 25 Anos', 6),\n",
       " (9, 'Plays Metallica By Four Cellos', 7),\n",
       " (10, 'Audioslave', 8)]"
      ]
     },
     "execution_count": 63,
     "metadata": {},
     "output_type": "execute_result"
    }
   ],
   "source": [
    "%%sql\n",
    "SELECT * \n",
    "FROM Album\n",
    "LIMIT 10"
   ]
  },
  {
   "cell_type": "code",
   "execution_count": 64,
   "id": "934d1ac1-6f0f-4c14-8b71-917f561a446f",
   "metadata": {},
   "outputs": [
    {
     "name": "stdout",
     "output_type": "stream",
     "text": [
      "1|For Those About To Rock We Salute You|1\n",
      "2|Balls to the Wall|2\n",
      "3|Restless and Wild|2\n",
      "4|Let There Be Rock|1\n",
      "5|Big Ones|3\n",
      "6|Jagged Little Pill|4\n",
      "7|Facelift|5\n",
      "8|Warner 25 Anos|6\n",
      "9|Plays Metallica By Four Cellos|7\n",
      "10|Audioslave|8\n"
     ]
    }
   ],
   "source": [
    "%%bash\n",
    "sqlite3 Chinook.db\n",
    "SELECT * FROM Album\n",
    "LIMIT 10;\n",
    ".quit"
   ]
  }
 ],
 "metadata": {
  "kernelspec": {
   "display_name": "Python 3 (ipykernel)",
   "language": "python",
   "name": "python3"
  },
  "language_info": {
   "codemirror_mode": {
    "name": "ipython",
    "version": 3
   },
   "file_extension": ".py",
   "mimetype": "text/x-python",
   "name": "python",
   "nbconvert_exporter": "python",
   "pygments_lexer": "ipython3",
   "version": "3.7.10"
  }
 },
 "nbformat": 4,
 "nbformat_minor": 5
}
